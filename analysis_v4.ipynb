{
 "cells": [
  {
   "cell_type": "code",
   "execution_count": 1,
   "metadata": {},
   "outputs": [],
   "source": [
    "from math import sqrt, acos, floor, sin"
   ]
  },
  {
   "cell_type": "code",
   "execution_count": 2,
   "metadata": {},
   "outputs": [],
   "source": [
    "def intersectionArea(X1, Y1, R1, X2, Y2, R2) :\n",
    "    Pi = 3.14\n",
    "\n",
    "    d = sqrt(((X2 - X1) * (X2 - X1)) + ((Y2 - Y1) * (Y2 - Y1)))\n",
    " \n",
    "    if (d > R1 + R2) :\n",
    "        ans = 0\n",
    "    elif (d <= (R1 - R2) and R1 >= R2) :\n",
    "        ans = floor(Pi * R2 * R2)\n",
    "    elif (d <= (R2 - R1) and R2 >= R1) :\n",
    "        ans = floor(Pi * R1 * R1)\n",
    "    else :\n",
    "        alpha = acos(((R1 * R1) + (d * d) - (R2 * R2)) / (2 * R1 * d)) * 2\n",
    "        beta = acos(((R2 * R2) + (d * d) - (R1 * R1)) / (2 * R2 * d)) * 2\n",
    "         \n",
    "        a1 = (0.5 * beta * R2 * R2 ) - (0.5 * R2 * R2 * sin(beta))\n",
    "        a2 = (0.5 * alpha * R1 * R1) - (0.5 * R1 * R1 * sin(alpha))\n",
    "        ans = floor(a1 + a2)\n",
    " \n",
    "    return ans\n"
   ]
  },
  {
   "cell_type": "code",
   "execution_count": 3,
   "metadata": {},
   "outputs": [],
   "source": [
    "X1 = 0; Y1 = 0; R1 = 4\n",
    "X2 = 6; Y2 = 0; R2 = 4"
   ]
  },
  {
   "cell_type": "code",
   "execution_count": 4,
   "metadata": {},
   "outputs": [
    {
     "name": "stdout",
     "output_type": "stream",
     "text": [
      "7\n"
     ]
    }
   ],
   "source": [
    "print(intersectionArea(X1, Y1, R1, X2, Y2, R2))"
   ]
  },
  {
   "cell_type": "code",
   "execution_count": 10,
   "metadata": {},
   "outputs": [],
   "source": [
    "import numpy as np\n",
    "import pandas as pd"
   ]
  },
  {
   "cell_type": "code",
   "execution_count": 6,
   "metadata": {},
   "outputs": [],
   "source": [
    "normal = pd.read_csv(\"./normal.csv\")"
   ]
  },
  {
   "cell_type": "code",
   "execution_count": 96,
   "metadata": {},
   "outputs": [
    {
     "data": {
      "text/html": [
       "<div>\n",
       "<style scoped>\n",
       "    .dataframe tbody tr th:only-of-type {\n",
       "        vertical-align: middle;\n",
       "    }\n",
       "\n",
       "    .dataframe tbody tr th {\n",
       "        vertical-align: top;\n",
       "    }\n",
       "\n",
       "    .dataframe thead th {\n",
       "        text-align: right;\n",
       "    }\n",
       "</style>\n",
       "<table border=\"1\" class=\"dataframe\">\n",
       "  <thead>\n",
       "    <tr style=\"text-align: right;\">\n",
       "      <th></th>\n",
       "      <th>0</th>\n",
       "      <th>1</th>\n",
       "      <th>2</th>\n",
       "      <th>3</th>\n",
       "      <th>4</th>\n",
       "      <th>5</th>\n",
       "      <th>6</th>\n",
       "      <th>7</th>\n",
       "      <th>8</th>\n",
       "      <th>9</th>\n",
       "      <th>...</th>\n",
       "      <th>141</th>\n",
       "      <th>142</th>\n",
       "      <th>143</th>\n",
       "      <th>144</th>\n",
       "      <th>145</th>\n",
       "      <th>146</th>\n",
       "      <th>147</th>\n",
       "      <th>148</th>\n",
       "      <th>149</th>\n",
       "      <th>label</th>\n",
       "    </tr>\n",
       "  </thead>\n",
       "  <tbody>\n",
       "    <tr>\n",
       "      <th>0</th>\n",
       "      <td>72.0</td>\n",
       "      <td>32.0</td>\n",
       "      <td>251.0</td>\n",
       "      <td>32.0</td>\n",
       "      <td>581.0</td>\n",
       "      <td>32.0</td>\n",
       "      <td>780.0</td>\n",
       "      <td>32.0</td>\n",
       "      <td>979.0</td>\n",
       "      <td>32.0</td>\n",
       "      <td>...</td>\n",
       "      <td>430.0</td>\n",
       "      <td>4772.0</td>\n",
       "      <td>430.0</td>\n",
       "      <td>4971.0</td>\n",
       "      <td>430.0</td>\n",
       "      <td>5301.0</td>\n",
       "      <td>430.0</td>\n",
       "      <td>5480.0</td>\n",
       "      <td>430.0</td>\n",
       "      <td>Assembled</td>\n",
       "    </tr>\n",
       "  </tbody>\n",
       "</table>\n",
       "<p>1 rows × 151 columns</p>\n",
       "</div>"
      ],
      "text/plain": [
       "      0     1      2     3      4     5      6     7      8     9  ...    141   \n",
       "0  72.0  32.0  251.0  32.0  581.0  32.0  780.0  32.0  979.0  32.0  ...  430.0  \\\n",
       "\n",
       "      142    143     144    145     146    147     148    149      label  \n",
       "0  4772.0  430.0  4971.0  430.0  5301.0  430.0  5480.0  430.0  Assembled  \n",
       "\n",
       "[1 rows x 151 columns]"
      ]
     },
     "execution_count": 96,
     "metadata": {},
     "output_type": "execute_result"
    }
   ],
   "source": [
    "normal"
   ]
  },
  {
   "cell_type": "code",
   "execution_count": 105,
   "metadata": {},
   "outputs": [
    {
     "data": {
      "text/plain": [
       "50      72.0\n",
       "51     231.0\n",
       "52     251.0\n",
       "53     231.0\n",
       "54     581.0\n",
       "55     231.0\n",
       "56     780.0\n",
       "57     231.0\n",
       "58     979.0\n",
       "59     231.0\n",
       "60    1178.0\n",
       "61     231.0\n",
       "62    1377.0\n",
       "63     231.0\n",
       "64    1781.0\n",
       "65     231.0\n",
       "66    1980.0\n",
       "67     231.0\n",
       "68    2179.0\n",
       "69     231.0\n",
       "70    2378.0\n",
       "71     231.0\n",
       "72    2577.0\n",
       "73     231.0\n",
       "74    2776.0\n",
       "Name: 0, dtype: object"
      ]
     },
     "execution_count": 105,
     "metadata": {},
     "output_type": "execute_result"
    }
   ],
   "source": [
    "normal.iloc[0][50:75]"
   ]
  },
  {
   "cell_type": "code",
   "execution_count": 8,
   "metadata": {},
   "outputs": [],
   "source": [
    "normal_copy = normal.copy()"
   ]
  },
  {
   "cell_type": "code",
   "execution_count": 9,
   "metadata": {},
   "outputs": [
    {
     "data": {
      "text/html": [
       "<div>\n",
       "<style scoped>\n",
       "    .dataframe tbody tr th:only-of-type {\n",
       "        vertical-align: middle;\n",
       "    }\n",
       "\n",
       "    .dataframe tbody tr th {\n",
       "        vertical-align: top;\n",
       "    }\n",
       "\n",
       "    .dataframe thead th {\n",
       "        text-align: right;\n",
       "    }\n",
       "</style>\n",
       "<table border=\"1\" class=\"dataframe\">\n",
       "  <thead>\n",
       "    <tr style=\"text-align: right;\">\n",
       "      <th></th>\n",
       "      <th>0</th>\n",
       "      <th>2</th>\n",
       "      <th>4</th>\n",
       "      <th>6</th>\n",
       "      <th>8</th>\n",
       "      <th>10</th>\n",
       "      <th>12</th>\n",
       "      <th>14</th>\n",
       "      <th>16</th>\n",
       "      <th>18</th>\n",
       "      <th>...</th>\n",
       "      <th>30</th>\n",
       "      <th>32</th>\n",
       "      <th>34</th>\n",
       "      <th>36</th>\n",
       "      <th>38</th>\n",
       "      <th>40</th>\n",
       "      <th>42</th>\n",
       "      <th>44</th>\n",
       "      <th>46</th>\n",
       "      <th>48</th>\n",
       "    </tr>\n",
       "  </thead>\n",
       "  <tbody>\n",
       "    <tr>\n",
       "      <th>0</th>\n",
       "      <td>72.0</td>\n",
       "      <td>251.0</td>\n",
       "      <td>581.0</td>\n",
       "      <td>780.0</td>\n",
       "      <td>979.0</td>\n",
       "      <td>1178.0</td>\n",
       "      <td>1377.0</td>\n",
       "      <td>1781.0</td>\n",
       "      <td>1980.0</td>\n",
       "      <td>2179.0</td>\n",
       "      <td>...</td>\n",
       "      <td>3373.0</td>\n",
       "      <td>3572.0</td>\n",
       "      <td>3771.0</td>\n",
       "      <td>4175.0</td>\n",
       "      <td>4374.0</td>\n",
       "      <td>4573.0</td>\n",
       "      <td>4772.0</td>\n",
       "      <td>4971.0</td>\n",
       "      <td>5301.0</td>\n",
       "      <td>5480.0</td>\n",
       "    </tr>\n",
       "  </tbody>\n",
       "</table>\n",
       "<p>1 rows × 25 columns</p>\n",
       "</div>"
      ],
      "text/plain": [
       "      0      2      4      6      8      10      12      14      16      18   \n",
       "0  72.0  251.0  581.0  780.0  979.0  1178.0  1377.0  1781.0  1980.0  2179.0  \\\n",
       "\n",
       "   ...      30      32      34      36      38      40      42      44   \n",
       "0  ...  3373.0  3572.0  3771.0  4175.0  4374.0  4573.0  4772.0  4971.0  \\\n",
       "\n",
       "       46      48  \n",
       "0  5301.0  5480.0  \n",
       "\n",
       "[1 rows x 25 columns]"
      ]
     },
     "execution_count": 9,
     "metadata": {},
     "output_type": "execute_result"
    }
   ],
   "source": [
    "normal_copy.iloc[:1, 0:-1:2].iloc[:, :25]"
   ]
  },
  {
   "cell_type": "code",
   "execution_count": 17,
   "metadata": {},
   "outputs": [
    {
     "data": {
      "text/html": [
       "<div>\n",
       "<style scoped>\n",
       "    .dataframe tbody tr th:only-of-type {\n",
       "        vertical-align: middle;\n",
       "    }\n",
       "\n",
       "    .dataframe tbody tr th {\n",
       "        vertical-align: top;\n",
       "    }\n",
       "\n",
       "    .dataframe thead th {\n",
       "        text-align: right;\n",
       "    }\n",
       "</style>\n",
       "<table border=\"1\" class=\"dataframe\">\n",
       "  <thead>\n",
       "    <tr style=\"text-align: right;\">\n",
       "      <th></th>\n",
       "      <th>1</th>\n",
       "      <th>3</th>\n",
       "      <th>5</th>\n",
       "      <th>7</th>\n",
       "      <th>9</th>\n",
       "      <th>11</th>\n",
       "      <th>13</th>\n",
       "      <th>15</th>\n",
       "      <th>17</th>\n",
       "      <th>19</th>\n",
       "      <th>...</th>\n",
       "      <th>31</th>\n",
       "      <th>33</th>\n",
       "      <th>35</th>\n",
       "      <th>37</th>\n",
       "      <th>39</th>\n",
       "      <th>41</th>\n",
       "      <th>43</th>\n",
       "      <th>45</th>\n",
       "      <th>47</th>\n",
       "      <th>49</th>\n",
       "    </tr>\n",
       "  </thead>\n",
       "  <tbody>\n",
       "    <tr>\n",
       "      <th>0</th>\n",
       "      <td>32.0</td>\n",
       "      <td>32.0</td>\n",
       "      <td>32.0</td>\n",
       "      <td>32.0</td>\n",
       "      <td>32.0</td>\n",
       "      <td>32.0</td>\n",
       "      <td>32.0</td>\n",
       "      <td>32.0</td>\n",
       "      <td>32.0</td>\n",
       "      <td>32.0</td>\n",
       "      <td>...</td>\n",
       "      <td>32.0</td>\n",
       "      <td>32.0</td>\n",
       "      <td>32.0</td>\n",
       "      <td>32.0</td>\n",
       "      <td>32.0</td>\n",
       "      <td>32.0</td>\n",
       "      <td>32.0</td>\n",
       "      <td>32.0</td>\n",
       "      <td>32.0</td>\n",
       "      <td>32.0</td>\n",
       "    </tr>\n",
       "  </tbody>\n",
       "</table>\n",
       "<p>1 rows × 25 columns</p>\n",
       "</div>"
      ],
      "text/plain": [
       "      1     3     5     7     9    11    13    15    17    19  ...    31   \n",
       "0  32.0  32.0  32.0  32.0  32.0  32.0  32.0  32.0  32.0  32.0  ...  32.0  \\\n",
       "\n",
       "     33    35    37    39    41    43    45    47    49  \n",
       "0  32.0  32.0  32.0  32.0  32.0  32.0  32.0  32.0  32.0  \n",
       "\n",
       "[1 rows x 25 columns]"
      ]
     },
     "execution_count": 17,
     "metadata": {},
     "output_type": "execute_result"
    }
   ],
   "source": [
    "normal_copy.iloc[:1, 1:-1:2].iloc[:, :25]"
   ]
  },
  {
   "cell_type": "code",
   "execution_count": 18,
   "metadata": {},
   "outputs": [],
   "source": [
    "one_column_row_circles_area = 0"
   ]
  },
  {
   "cell_type": "code",
   "execution_count": 51,
   "metadata": {},
   "outputs": [],
   "source": [
    "for i in normal_copy.iloc[:1, 0:-1:2].iloc[:, :25].iterrows():\n",
    "    for j in range(0, 25):\n",
    "        one_column_row_circles_area = one_column_row_circles_area + intersectionArea(i[1][j], 32, 32, i[1][j], 32, 32)\n",
    "\n",
    "    break\n",
    "    \n",
    "    # print(intersectionArea(row.astype(np.int64), 32, 32, row.astype(np.int64), 32, 32))"
   ]
  },
  {
   "cell_type": "code",
   "execution_count": 52,
   "metadata": {},
   "outputs": [
    {
     "data": {
      "text/plain": [
       "80375"
      ]
     },
     "execution_count": 52,
     "metadata": {},
     "output_type": "execute_result"
    }
   ],
   "source": [
    "one_column_row_circles_area"
   ]
  },
  {
   "cell_type": "code",
   "execution_count": 53,
   "metadata": {},
   "outputs": [],
   "source": [
    "two_column_row_circles_area = 0"
   ]
  },
  {
   "cell_type": "code",
   "execution_count": 79,
   "metadata": {},
   "outputs": [
    {
     "name": "stdout",
     "output_type": "stream",
     "text": [
      "(0, 50      72.0\n",
      "52     251.0\n",
      "54     581.0\n",
      "56     780.0\n",
      "58     979.0\n",
      "60    1178.0\n",
      "62    1377.0\n",
      "64    1781.0\n",
      "66    1980.0\n",
      "68    2179.0\n",
      "70    2378.0\n",
      "72    2577.0\n",
      "74    2776.0\n",
      "76    2975.0\n",
      "78    3174.0\n",
      "80    3373.0\n",
      "82    3572.0\n",
      "84    3771.0\n",
      "86    4175.0\n",
      "88    4374.0\n",
      "90    4573.0\n",
      "92    4772.0\n",
      "94    4971.0\n",
      "96    5301.0\n",
      "98    5480.0\n",
      "Name: 0, dtype: float64)\n"
     ]
    }
   ],
   "source": [
    "for i in normal_copy.iloc[:1, 0:-1:2].iloc[:, 25:50].iterrows():\n",
    "\n",
    "    for j in range(0, 25):\n",
    "        two_column_row_circles_area = two_column_row_circles_area + intersectionArea(i[1][j], 32, 32, i[1][j], 32, 32)\n",
    "\n",
    "    break\n",
    "    \n",
    "    # print(intersectionArea(row.astype(np.int64), 32, 32, row.astype(np.int64), 32, 32))"
   ]
  },
  {
   "cell_type": "code",
   "execution_count": 55,
   "metadata": {},
   "outputs": [
    {
     "data": {
      "text/plain": [
       "80375"
      ]
     },
     "execution_count": 55,
     "metadata": {},
     "output_type": "execute_result"
    }
   ],
   "source": [
    "two_column_row_circles_area"
   ]
  },
  {
   "cell_type": "code",
   "execution_count": 57,
   "metadata": {},
   "outputs": [],
   "source": [
    "three_column_row_circles_area = 0"
   ]
  },
  {
   "cell_type": "code",
   "execution_count": 58,
   "metadata": {},
   "outputs": [],
   "source": [
    "for i in normal_copy.iloc[:1, 0:-1:2].iloc[:, :25].iterrows():\n",
    "    for j in range(0, 25):\n",
    "        three_column_row_circles_area = three_column_row_circles_area + intersectionArea(i[1][j], 32, 32, i[1][j], 32, 32)\n",
    "\n",
    "    break\n",
    "    \n",
    "    # print(intersectionArea(row.astype(np.int64), 32, 32, row.astype(np.int64), 32, 32))"
   ]
  },
  {
   "cell_type": "code",
   "execution_count": 59,
   "metadata": {},
   "outputs": [
    {
     "data": {
      "text/plain": [
       "80375"
      ]
     },
     "execution_count": 59,
     "metadata": {},
     "output_type": "execute_result"
    }
   ],
   "source": [
    "three_column_row_circles_area"
   ]
  },
  {
   "cell_type": "code",
   "execution_count": 60,
   "metadata": {},
   "outputs": [],
   "source": [
    "total_Area = 80375 * 3"
   ]
  },
  {
   "cell_type": "code",
   "execution_count": 61,
   "metadata": {},
   "outputs": [
    {
     "data": {
      "text/plain": [
       "241125"
      ]
     },
     "execution_count": 61,
     "metadata": {},
     "output_type": "execute_result"
    }
   ],
   "source": [
    "total_Area"
   ]
  },
  {
   "cell_type": "code",
   "execution_count": 64,
   "metadata": {},
   "outputs": [],
   "source": [
    "one_row_bolts = pd.read_csv(\"./one_row_bolts.csv\")"
   ]
  },
  {
   "cell_type": "code",
   "execution_count": 65,
   "metadata": {},
   "outputs": [
    {
     "data": {
      "text/html": [
       "<div>\n",
       "<style scoped>\n",
       "    .dataframe tbody tr th:only-of-type {\n",
       "        vertical-align: middle;\n",
       "    }\n",
       "\n",
       "    .dataframe tbody tr th {\n",
       "        vertical-align: top;\n",
       "    }\n",
       "\n",
       "    .dataframe thead th {\n",
       "        text-align: right;\n",
       "    }\n",
       "</style>\n",
       "<table border=\"1\" class=\"dataframe\">\n",
       "  <thead>\n",
       "    <tr style=\"text-align: right;\">\n",
       "      <th></th>\n",
       "      <th>1</th>\n",
       "      <th>2</th>\n",
       "      <th>3</th>\n",
       "    </tr>\n",
       "  </thead>\n",
       "  <tbody>\n",
       "    <tr>\n",
       "      <th>0</th>\n",
       "      <td>76</td>\n",
       "      <td>76</td>\n",
       "      <td>46</td>\n",
       "    </tr>\n",
       "    <tr>\n",
       "      <th>1</th>\n",
       "      <td>268</td>\n",
       "      <td>73</td>\n",
       "      <td>48</td>\n",
       "    </tr>\n",
       "    <tr>\n",
       "      <th>2</th>\n",
       "      <td>621</td>\n",
       "      <td>73</td>\n",
       "      <td>47</td>\n",
       "    </tr>\n",
       "    <tr>\n",
       "      <th>3</th>\n",
       "      <td>830</td>\n",
       "      <td>75</td>\n",
       "      <td>46</td>\n",
       "    </tr>\n",
       "    <tr>\n",
       "      <th>4</th>\n",
       "      <td>1040</td>\n",
       "      <td>75</td>\n",
       "      <td>46</td>\n",
       "    </tr>\n",
       "    <tr>\n",
       "      <th>5</th>\n",
       "      <td>1248</td>\n",
       "      <td>74</td>\n",
       "      <td>45</td>\n",
       "    </tr>\n",
       "    <tr>\n",
       "      <th>6</th>\n",
       "      <td>1453</td>\n",
       "      <td>74</td>\n",
       "      <td>46</td>\n",
       "    </tr>\n",
       "    <tr>\n",
       "      <th>7</th>\n",
       "      <td>1869</td>\n",
       "      <td>72</td>\n",
       "      <td>46</td>\n",
       "    </tr>\n",
       "    <tr>\n",
       "      <th>8</th>\n",
       "      <td>2272</td>\n",
       "      <td>73</td>\n",
       "      <td>47</td>\n",
       "    </tr>\n",
       "    <tr>\n",
       "      <th>9</th>\n",
       "      <td>2471</td>\n",
       "      <td>74</td>\n",
       "      <td>45</td>\n",
       "    </tr>\n",
       "    <tr>\n",
       "      <th>10</th>\n",
       "      <td>2668</td>\n",
       "      <td>75</td>\n",
       "      <td>45</td>\n",
       "    </tr>\n",
       "    <tr>\n",
       "      <th>11</th>\n",
       "      <td>2865</td>\n",
       "      <td>70</td>\n",
       "      <td>43</td>\n",
       "    </tr>\n",
       "    <tr>\n",
       "      <th>12</th>\n",
       "      <td>3059</td>\n",
       "      <td>71</td>\n",
       "      <td>44</td>\n",
       "    </tr>\n",
       "    <tr>\n",
       "      <th>13</th>\n",
       "      <td>3255</td>\n",
       "      <td>74</td>\n",
       "      <td>43</td>\n",
       "    </tr>\n",
       "    <tr>\n",
       "      <th>14</th>\n",
       "      <td>3455</td>\n",
       "      <td>75</td>\n",
       "      <td>43</td>\n",
       "    </tr>\n",
       "    <tr>\n",
       "      <th>15</th>\n",
       "      <td>3651</td>\n",
       "      <td>78</td>\n",
       "      <td>43</td>\n",
       "    </tr>\n",
       "    <tr>\n",
       "      <th>16</th>\n",
       "      <td>3846</td>\n",
       "      <td>80</td>\n",
       "      <td>43</td>\n",
       "    </tr>\n",
       "    <tr>\n",
       "      <th>17</th>\n",
       "      <td>4245</td>\n",
       "      <td>79</td>\n",
       "      <td>44</td>\n",
       "    </tr>\n",
       "    <tr>\n",
       "      <th>18</th>\n",
       "      <td>4441</td>\n",
       "      <td>81</td>\n",
       "      <td>44</td>\n",
       "    </tr>\n",
       "    <tr>\n",
       "      <th>19</th>\n",
       "      <td>4635</td>\n",
       "      <td>83</td>\n",
       "      <td>43</td>\n",
       "    </tr>\n",
       "    <tr>\n",
       "      <th>20</th>\n",
       "      <td>4831</td>\n",
       "      <td>86</td>\n",
       "      <td>45</td>\n",
       "    </tr>\n",
       "    <tr>\n",
       "      <th>21</th>\n",
       "      <td>5023</td>\n",
       "      <td>88</td>\n",
       "      <td>43</td>\n",
       "    </tr>\n",
       "    <tr>\n",
       "      <th>22</th>\n",
       "      <td>5348</td>\n",
       "      <td>90</td>\n",
       "      <td>44</td>\n",
       "    </tr>\n",
       "    <tr>\n",
       "      <th>23</th>\n",
       "      <td>5524</td>\n",
       "      <td>89</td>\n",
       "      <td>41</td>\n",
       "    </tr>\n",
       "  </tbody>\n",
       "</table>\n",
       "</div>"
      ],
      "text/plain": [
       "       1   2   3\n",
       "0     76  76  46\n",
       "1    268  73  48\n",
       "2    621  73  47\n",
       "3    830  75  46\n",
       "4   1040  75  46\n",
       "5   1248  74  45\n",
       "6   1453  74  46\n",
       "7   1869  72  46\n",
       "8   2272  73  47\n",
       "9   2471  74  45\n",
       "10  2668  75  45\n",
       "11  2865  70  43\n",
       "12  3059  71  44\n",
       "13  3255  74  43\n",
       "14  3455  75  43\n",
       "15  3651  78  43\n",
       "16  3846  80  43\n",
       "17  4245  79  44\n",
       "18  4441  81  44\n",
       "19  4635  83  43\n",
       "20  4831  86  45\n",
       "21  5023  88  43\n",
       "22  5348  90  44\n",
       "23  5524  89  41"
      ]
     },
     "execution_count": 65,
     "metadata": {},
     "output_type": "execute_result"
    }
   ],
   "source": [
    "one_row_bolts"
   ]
  },
  {
   "cell_type": "code",
   "execution_count": 81,
   "metadata": {},
   "outputs": [],
   "source": [
    "one_row_bolts_circle_area = 0"
   ]
  },
  {
   "cell_type": "code",
   "execution_count": 82,
   "metadata": {},
   "outputs": [
    {
     "ename": "TypeError",
     "evalue": "'int' object is not callable",
     "output_type": "error",
     "traceback": [
      "\u001b[0;31m---------------------------------------------------------------------------\u001b[0m",
      "\u001b[0;31mTypeError\u001b[0m                                 Traceback (most recent call last)",
      "\u001b[1;32m/Users/enfycius/Documents/LH2023/analysis_v4.ipynb 셀 25\u001b[0m line \u001b[0;36m2\n\u001b[1;32m      <a href='vscode-notebook-cell:/Users/enfycius/Documents/LH2023/analysis_v4.ipynb#X36sZmlsZQ%3D%3D?line=0'>1</a>\u001b[0m \u001b[39mfor\u001b[39;00m i \u001b[39min\u001b[39;00m one_row_bolts\u001b[39m.\u001b[39miterrows():\n\u001b[0;32m----> <a href='vscode-notebook-cell:/Users/enfycius/Documents/LH2023/analysis_v4.ipynb#X36sZmlsZQ%3D%3D?line=1'>2</a>\u001b[0m     one_row_bolts_circle_area()\n\u001b[1;32m      <a href='vscode-notebook-cell:/Users/enfycius/Documents/LH2023/analysis_v4.ipynb#X36sZmlsZQ%3D%3D?line=2'>3</a>\u001b[0m     \u001b[39mprint\u001b[39m(i[\u001b[39m1\u001b[39m][\u001b[39m0\u001b[39m])\n\u001b[1;32m      <a href='vscode-notebook-cell:/Users/enfycius/Documents/LH2023/analysis_v4.ipynb#X36sZmlsZQ%3D%3D?line=3'>4</a>\u001b[0m     \u001b[39mprint\u001b[39m(i[\u001b[39m1\u001b[39m][\u001b[39m1\u001b[39m])\n",
      "\u001b[0;31mTypeError\u001b[0m: 'int' object is not callable"
     ]
    }
   ],
   "source": [
    "for i in one_row_bolts.iterrows():\n",
    "    one_row_bolts_circle_area()\n",
    "    print(i[1][0])\n",
    "    print(i[1][1])\n",
    "    print(i[1][2])"
   ]
  },
  {
   "cell_type": "code",
   "execution_count": 83,
   "metadata": {},
   "outputs": [],
   "source": [
    "two_row_bolts = pd.read_csv(\"./two_row_bolts.csv\")"
   ]
  },
  {
   "cell_type": "code",
   "execution_count": 84,
   "metadata": {},
   "outputs": [
    {
     "data": {
      "text/html": [
       "<div>\n",
       "<style scoped>\n",
       "    .dataframe tbody tr th:only-of-type {\n",
       "        vertical-align: middle;\n",
       "    }\n",
       "\n",
       "    .dataframe tbody tr th {\n",
       "        vertical-align: top;\n",
       "    }\n",
       "\n",
       "    .dataframe thead th {\n",
       "        text-align: right;\n",
       "    }\n",
       "</style>\n",
       "<table border=\"1\" class=\"dataframe\">\n",
       "  <thead>\n",
       "    <tr style=\"text-align: right;\">\n",
       "      <th></th>\n",
       "      <th>1</th>\n",
       "      <th>2</th>\n",
       "      <th>3</th>\n",
       "    </tr>\n",
       "  </thead>\n",
       "  <tbody>\n",
       "    <tr>\n",
       "      <th>0</th>\n",
       "      <td>76</td>\n",
       "      <td>265</td>\n",
       "      <td>48</td>\n",
       "    </tr>\n",
       "    <tr>\n",
       "      <th>1</th>\n",
       "      <td>268</td>\n",
       "      <td>260</td>\n",
       "      <td>46</td>\n",
       "    </tr>\n",
       "    <tr>\n",
       "      <th>2</th>\n",
       "      <td>621</td>\n",
       "      <td>260</td>\n",
       "      <td>46</td>\n",
       "    </tr>\n",
       "    <tr>\n",
       "      <th>3</th>\n",
       "      <td>830</td>\n",
       "      <td>260</td>\n",
       "      <td>45</td>\n",
       "    </tr>\n",
       "    <tr>\n",
       "      <th>4</th>\n",
       "      <td>1040</td>\n",
       "      <td>260</td>\n",
       "      <td>46</td>\n",
       "    </tr>\n",
       "    <tr>\n",
       "      <th>5</th>\n",
       "      <td>1248</td>\n",
       "      <td>260</td>\n",
       "      <td>44</td>\n",
       "    </tr>\n",
       "    <tr>\n",
       "      <th>6</th>\n",
       "      <td>1451</td>\n",
       "      <td>258</td>\n",
       "      <td>44</td>\n",
       "    </tr>\n",
       "    <tr>\n",
       "      <th>7</th>\n",
       "      <td>1869</td>\n",
       "      <td>255</td>\n",
       "      <td>46</td>\n",
       "    </tr>\n",
       "    <tr>\n",
       "      <th>8</th>\n",
       "      <td>2070</td>\n",
       "      <td>254</td>\n",
       "      <td>43</td>\n",
       "    </tr>\n",
       "    <tr>\n",
       "      <th>9</th>\n",
       "      <td>2270</td>\n",
       "      <td>254</td>\n",
       "      <td>45</td>\n",
       "    </tr>\n",
       "    <tr>\n",
       "      <th>10</th>\n",
       "      <td>2468</td>\n",
       "      <td>254</td>\n",
       "      <td>44</td>\n",
       "    </tr>\n",
       "    <tr>\n",
       "      <th>11</th>\n",
       "      <td>2665</td>\n",
       "      <td>253</td>\n",
       "      <td>43</td>\n",
       "    </tr>\n",
       "    <tr>\n",
       "      <th>12</th>\n",
       "      <td>2862</td>\n",
       "      <td>251</td>\n",
       "      <td>43</td>\n",
       "    </tr>\n",
       "    <tr>\n",
       "      <th>13</th>\n",
       "      <td>3058</td>\n",
       "      <td>252</td>\n",
       "      <td>42</td>\n",
       "    </tr>\n",
       "    <tr>\n",
       "      <th>14</th>\n",
       "      <td>3253</td>\n",
       "      <td>253</td>\n",
       "      <td>42</td>\n",
       "    </tr>\n",
       "    <tr>\n",
       "      <th>15</th>\n",
       "      <td>3450</td>\n",
       "      <td>255</td>\n",
       "      <td>43</td>\n",
       "    </tr>\n",
       "    <tr>\n",
       "      <th>16</th>\n",
       "      <td>3645</td>\n",
       "      <td>259</td>\n",
       "      <td>42</td>\n",
       "    </tr>\n",
       "    <tr>\n",
       "      <th>17</th>\n",
       "      <td>3841</td>\n",
       "      <td>261</td>\n",
       "      <td>42</td>\n",
       "    </tr>\n",
       "    <tr>\n",
       "      <th>18</th>\n",
       "      <td>4239</td>\n",
       "      <td>260</td>\n",
       "      <td>43</td>\n",
       "    </tr>\n",
       "    <tr>\n",
       "      <th>19</th>\n",
       "      <td>4435</td>\n",
       "      <td>261</td>\n",
       "      <td>44</td>\n",
       "    </tr>\n",
       "    <tr>\n",
       "      <th>20</th>\n",
       "      <td>4631</td>\n",
       "      <td>264</td>\n",
       "      <td>43</td>\n",
       "    </tr>\n",
       "    <tr>\n",
       "      <th>21</th>\n",
       "      <td>4827</td>\n",
       "      <td>266</td>\n",
       "      <td>43</td>\n",
       "    </tr>\n",
       "    <tr>\n",
       "      <th>22</th>\n",
       "      <td>5023</td>\n",
       "      <td>267</td>\n",
       "      <td>42</td>\n",
       "    </tr>\n",
       "    <tr>\n",
       "      <th>23</th>\n",
       "      <td>5343</td>\n",
       "      <td>267</td>\n",
       "      <td>43</td>\n",
       "    </tr>\n",
       "    <tr>\n",
       "      <th>24</th>\n",
       "      <td>5519</td>\n",
       "      <td>266</td>\n",
       "      <td>42</td>\n",
       "    </tr>\n",
       "  </tbody>\n",
       "</table>\n",
       "</div>"
      ],
      "text/plain": [
       "       1    2   3\n",
       "0     76  265  48\n",
       "1    268  260  46\n",
       "2    621  260  46\n",
       "3    830  260  45\n",
       "4   1040  260  46\n",
       "5   1248  260  44\n",
       "6   1451  258  44\n",
       "7   1869  255  46\n",
       "8   2070  254  43\n",
       "9   2270  254  45\n",
       "10  2468  254  44\n",
       "11  2665  253  43\n",
       "12  2862  251  43\n",
       "13  3058  252  42\n",
       "14  3253  253  42\n",
       "15  3450  255  43\n",
       "16  3645  259  42\n",
       "17  3841  261  42\n",
       "18  4239  260  43\n",
       "19  4435  261  44\n",
       "20  4631  264  43\n",
       "21  4827  266  43\n",
       "22  5023  267  42\n",
       "23  5343  267  43\n",
       "24  5519  266  42"
      ]
     },
     "execution_count": 84,
     "metadata": {},
     "output_type": "execute_result"
    }
   ],
   "source": [
    "two_row_bolts"
   ]
  },
  {
   "cell_type": "code",
   "execution_count": 92,
   "metadata": {},
   "outputs": [],
   "source": [
    "X12 = []\n",
    "Y12 = []\n",
    "R12 = []"
   ]
  },
  {
   "cell_type": "code",
   "execution_count": 93,
   "metadata": {},
   "outputs": [],
   "source": [
    "for i in two_row_bolts.iterrows():\n",
    "    X12.append(i[1][0])\n",
    "    Y12.append(i[1][1])\n",
    "    R12.append(i[1][2])"
   ]
  },
  {
   "cell_type": "code",
   "execution_count": 110,
   "metadata": {},
   "outputs": [],
   "source": [
    "two_row_bolts_area = 0"
   ]
  },
  {
   "cell_type": "code",
   "execution_count": 111,
   "metadata": {},
   "outputs": [
    {
     "name": "stdout",
     "output_type": "stream",
     "text": [
      "72.0\n",
      "251.0\n",
      "581.0\n",
      "780.0\n",
      "979.0\n",
      "1178.0\n",
      "1377.0\n",
      "1781.0\n",
      "1980.0\n",
      "2179.0\n",
      "2378.0\n",
      "2577.0\n",
      "2776.0\n",
      "2975.0\n",
      "3174.0\n",
      "3373.0\n",
      "3572.0\n",
      "3771.0\n",
      "4175.0\n",
      "4374.0\n",
      "4573.0\n",
      "4772.0\n",
      "4971.0\n",
      "5301.0\n",
      "5480.0\n"
     ]
    }
   ],
   "source": [
    "for i in normal_copy.iloc[:1, 0:-1:2].iloc[:, 25:50].iterrows():\n",
    "    for j in range(0, 25):\n",
    "        two_row_bolts_area = two_row_bolts_area + intersectionArea(i[1][j], 231, 32, X12[j], Y12[j], R12[j])\n",
    "        print(i[1][j])"
   ]
  },
  {
   "cell_type": "code",
   "execution_count": 112,
   "metadata": {},
   "outputs": [
    {
     "data": {
      "text/plain": [
       "8885"
      ]
     },
     "execution_count": 112,
     "metadata": {},
     "output_type": "execute_result"
    }
   ],
   "source": [
    "two_row_bolts_area"
   ]
  },
  {
   "cell_type": "code",
   "execution_count": 118,
   "metadata": {},
   "outputs": [],
   "source": [
    "import numpy as np\n",
    "import cv2\n",
    "import matplotlib.pyplot as plt\n",
    "\n",
    "img = np.zeros((540, 5577, 3), np.uint8)"
   ]
  },
  {
   "cell_type": "code",
   "execution_count": 119,
   "metadata": {},
   "outputs": [],
   "source": [
    "for i in normal_copy.iloc[:1, 0:-1:2].iloc[:, 25:50].iterrows():\n",
    "    for j in range(0, 25):\n",
    "        img = cv2.circle(img, (int(i[1][j]), 231), 32, (0,0,255), -1)"
   ]
  },
  {
   "cell_type": "code",
   "execution_count": 120,
   "metadata": {},
   "outputs": [
    {
     "data": {
      "image/png": "[encoded data removed]",
      "text/plain": [
       "<Figure size 640x480 with 1 Axes>"
      ]
     },
     "metadata": {},
     "output_type": "display_data"
    }
   ],
   "source": [
    "plt.imshow(img)\n",
    "plt.show()"
   ]
  },
  {
   "cell_type": "code",
   "execution_count": 121,
   "metadata": {},
   "outputs": [],
   "source": [
    "for j in range(0, 25):\n",
    "    img = cv2.circle(img, (X12[j], Y12[j]), R12[j], (255,0,0), -1)"
   ]
  },
  {
   "cell_type": "code",
   "execution_count": 122,
   "metadata": {},
   "outputs": [
    {
     "data": {
      "image/png": "[encoded data removed]",
      "text/plain": [
       "<Figure size 640x480 with 1 Axes>"
      ]
     },
     "metadata": {},
     "output_type": "display_data"
    }
   ],
   "source": [
    "plt.imshow(img)\n",
    "plt.show()"
   ]
  }
 ],
 "metadata": {
  "kernelspec": {
   "display_name": "BASE",
   "language": "python",
   "name": "base"
  },
  "language_info": {
   "codemirror_mode": {
    "name": "ipython",
    "version": 3
   },
   "file_extension": ".py",
   "mimetype": "text/x-python",
   "name": "python",
   "nbconvert_exporter": "python",
   "pygments_lexer": "ipython3",
   "version": "3.10.10"
  }
 },
 "nbformat": 4,
 "nbformat_minor": 2
}
